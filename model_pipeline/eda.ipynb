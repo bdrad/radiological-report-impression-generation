{
 "cells": [
  {
   "cell_type": "code",
   "execution_count": 1,
   "id": "e444f4f1",
   "metadata": {},
   "outputs": [],
   "source": [
    "import pandas as pd\n",
    "import os\n",
    "import io\n",
    "import tqdm\n",
    "import regex as re\n",
    "from cryptography.fernet import Fernet\n",
    "from sklearn.model_selection import train_test_split"
   ]
  },
  {
   "cell_type": "code",
   "execution_count": 5,
   "id": "9dd09f6e",
   "metadata": {},
   "outputs": [
    {
     "name": "stderr",
     "output_type": "stream",
     "text": [
      "/tmp/ipykernel_114598/2551622431.py:3: UserWarning: Boolean Series key will be reindexed to match DataFrame index.\n",
      "  GENERAL = raw_data[raw_data['Report Finalized Date'].str.split(' ').str[0] < '2022-04-02'][raw_data['Modality'].isin(['CT', 'PET', 'MRI', 'US'])]\n",
      "/tmp/ipykernel_114598/2551622431.py:9: UserWarning: Boolean Series key will be reindexed to match DataFrame index.\n",
      "  CT = raw_data[date_condition_1 & date_condition_2][raw_data['Modality'] == 'CT']\n"
     ]
    }
   ],
   "source": [
    "raw_data = pd.read_csv('data/raw/secure_UCSF_radreports__CT_MR_MRI_US_PET__01-01-2021__10-22-2022.csv')\n",
    "\n",
    "GENERAL = raw_data[raw_data['Report Finalized Date'].str.split(' ').str[0] < '2022-04-02'][raw_data['Modality'].isin(['CT', 'PET', 'MRI', 'US'])]\n",
    "\n",
    "date_condition_1 = raw_data['Report Finalized Date'].str.split(' ').str[0] >= '2022-04-02'\n",
    "date_condition_2 = raw_data['Report Finalized Date'].str.split(' ').str[0] < '2022-07-02' \n",
    "date_condition_3 = raw_data['Report Finalized Date'].str.split(' ').str[0] >= '2022-07-02' \n",
    "\n",
    "CT = raw_data[date_condition_1 & date_condition_2][raw_data['Modality'] == 'CT']\n",
    "CT_CHEST = raw_data[date_condition_3 & raw_data['Exam Description'].str.contains('CT CHEST')]"
   ]
  },
  {
   "cell_type": "code",
   "execution_count": 6,
   "id": "2034f108",
   "metadata": {},
   "outputs": [
    {
     "data": {
      "text/plain": [
       "261086"
      ]
     },
     "execution_count": 6,
     "metadata": {},
     "output_type": "execute_result"
    }
   ],
   "source": [
    "general_dataset = GENERAL.drop_duplicates('Accession Number').reset_index(drop=True)\n",
    "len(general_dataset)"
   ]
  },
  {
   "cell_type": "code",
   "execution_count": 7,
   "id": "22c32527",
   "metadata": {},
   "outputs": [
    {
     "data": {
      "text/plain": [
       "21425"
      ]
     },
     "execution_count": 7,
     "metadata": {},
     "output_type": "execute_result"
    }
   ],
   "source": [
    "specialized_dataset = CT.drop_duplicates('Accession Number').reset_index(drop=True)\n",
    "len(specialized_dataset)"
   ]
  },
  {
   "cell_type": "code",
   "execution_count": 8,
   "id": "99d2c7ab",
   "metadata": {},
   "outputs": [
    {
     "data": {
      "text/plain": [
       "7863"
      ]
     },
     "execution_count": 8,
     "metadata": {},
     "output_type": "execute_result"
    }
   ],
   "source": [
    "finegrained_dataset = CT_CHEST.drop_duplicates('Accession Number').reset_index(drop=True)\n",
    "len(finegrained_dataset)"
   ]
  },
  {
   "cell_type": "code",
   "execution_count": 9,
   "id": "4f39bf80",
   "metadata": {},
   "outputs": [
    {
     "data": {
      "text/plain": [
       "CT     111440\n",
       "MRI     70876\n",
       "PET     10781\n",
       "US      67989\n",
       "Name: Modality, dtype: int64"
      ]
     },
     "execution_count": 9,
     "metadata": {},
     "output_type": "execute_result"
    }
   ],
   "source": [
    "general_departmental_counts = general_dataset['Modality'].value_counts()\n",
    "general_departmental_counts.sort_index()"
   ]
  },
  {
   "cell_type": "code",
   "execution_count": 10,
   "id": "497f81a2",
   "metadata": {},
   "outputs": [
    {
     "data": {
      "text/plain": [
       "Female    140070\n",
       "Male      120729\n",
       "U            236\n",
       "Name: Patient Sex, dtype: int64"
      ]
     },
     "execution_count": 10,
     "metadata": {},
     "output_type": "execute_result"
    }
   ],
   "source": [
    "general_sex_counts = general_dataset['Patient Sex'].value_counts()\n",
    "general_sex_counts"
   ]
  },
  {
   "cell_type": "code",
   "execution_count": 11,
   "id": "fbfeebc2",
   "metadata": {},
   "outputs": [
    {
     "data": {
      "text/plain": [
       "Female    10738\n",
       "Male      10661\n",
       "U            16\n",
       "Name: Patient Sex, dtype: int64"
      ]
     },
     "execution_count": 11,
     "metadata": {},
     "output_type": "execute_result"
    }
   ],
   "source": [
    "specialized_sex_counts = specialized_dataset['Patient Sex'].value_counts()\n",
    "specialized_sex_counts"
   ]
  },
  {
   "cell_type": "code",
   "execution_count": 12,
   "id": "6f5cee8a",
   "metadata": {},
   "outputs": [
    {
     "data": {
      "text/plain": [
       "Female    3976\n",
       "Male      3875\n",
       "U           10\n",
       "Name: Patient Sex, dtype: int64"
      ]
     },
     "execution_count": 12,
     "metadata": {},
     "output_type": "execute_result"
    }
   ],
   "source": [
    "finegrained_sex_counts = finegrained_dataset['Patient Sex'].value_counts()\n",
    "finegrained_sex_counts"
   ]
  },
  {
   "cell_type": "code",
   "execution_count": 13,
   "id": "6fad01ae",
   "metadata": {},
   "outputs": [],
   "source": [
    "general_dataset_raw = general_dataset.dropna(subset=['Exam Code'])\n",
    "general_dataset_raw = general_dataset_raw[['Accession Number', 'Report Text', 'Exam Description']]\n",
    "general_dataset_raw = general_dataset_raw.sample(frac=1).reset_index(drop=True)\n",
    "\n",
    "specialized_dataset_raw = specialized_dataset.dropna(subset=['Exam Code'])\n",
    "specialized_dataset_raw = specialized_dataset_raw[['Accession Number', 'Report Text', 'Exam Description']]\n",
    "specialized_dataset_raw = specialized_dataset_raw.sample(frac=1).reset_index(drop=True)\n",
    "\n",
    "finegrained_dataset_raw = finegrained_dataset.dropna(subset=['Exam Code'])\n",
    "finegrained_dataset_raw = finegrained_dataset_raw[['Accession Number', 'Report Text', 'Exam Description']]\n",
    "finegrained_dataset_raw = finegrained_dataset_raw.sample(frac=1).reset_index(drop=True)"
   ]
  },
  {
   "cell_type": "code",
   "execution_count": 14,
   "id": "d0690b83",
   "metadata": {},
   "outputs": [],
   "source": [
    "def preprocess_findings(exam, report_text):\n",
    "    text = report_text.split('\\n\\n')\n",
    "    findings = re.search(r\"((?<=\\nFINDINGS:|FINDINGS:\\n|Findings:\\n)(.|\\n)*)\", text[0])\n",
    "    if findings:\n",
    "        findings = findings.group(0).split('\"')[0]\n",
    "        findings = findings.strip()\n",
    "        findings = re.sub(r\"(?=(RADIATION DOSE))(.|\\n)*\", \"\", findings)\n",
    "    else:\n",
    "        raise Exception('Invalid')\n",
    "    comparison = re.search(r\"((?=COMPARISON|Comparison)(.)*)\", text[0])\n",
    "    if comparison:\n",
    "        comparison = comparison.group(0)\n",
    "        comparison_text = comparison.split(':')\n",
    "        comparison = ' '.join(comparison_text[-1].split())\n",
    "    else:\n",
    "        comparison = 'None'\n",
    "    clinical_history = re.search(r\"((?=CLINICAL HISTORY|Clinical history)(.)*)\", text[0])\n",
    "    if clinical_history:\n",
    "        clinical_history = clinical_history.group(0)\n",
    "        clinical_history_text = clinical_history.split(':')\n",
    "        clinical_history = ' '.join(clinical_history_text[-1].split())\n",
    "    else:\n",
    "        clinical_history = 'None'    \n",
    "    if not comparison:\n",
    "        comparison = 'None'\n",
    "    if not clinical_history:\n",
    "        clinical_history = 'None'\n",
    "    source = 'EXAM:\\n{}'.format(exam) + '\\n' + 'CLINICAL HISTORY:\\n{}'.format(clinical_history) + '\\n' + 'COMPARISON:\\n{}'.format(comparison) + '\\n' + 'FINDINGS:\\n{}'.format(findings) \n",
    "    return exam, clinical_history, comparison, findings, source"
   ]
  },
  {
   "cell_type": "code",
   "execution_count": 15,
   "id": "340099dd",
   "metadata": {},
   "outputs": [],
   "source": [
    "def preprocess_impression(report_text):\n",
    "    text = report_text.split('\\n\\n')\n",
    "    if len(text) == 1:\n",
    "        text = report_text.split('\\n\"')\n",
    "        regex = re.compile(r'^(^$|IMPRESSION:|Report|Department|Electronically|\\/\\/).*')\n",
    "        text = [ele for ele in text if not regex.match(ele)]\n",
    "        if len(text) > 2:\n",
    "            raise Exception('Invalid')\n",
    "\n",
    "    text[-1] = re.sub(r\"(?=(Impression discussed|Further impression|Final impression|Attestation|Radiologist|Electronically|This change was))(.|\\n)*\", \"\", text[-1])\n",
    "    text[-1] = re.sub(r\"\\.\\.\", \".\", text[-1])\n",
    "    impression_text = text[-1].split('\\n')\n",
    "    regex = re.compile(r'^(^$|^\\s*$|This study|FINDINGS|IMPRESSION:|Report|Department|Electronically|\\/\\/).*')\n",
    "    filtered_impression = [ele for ele in impression_text if not regex.match(ele)]\n",
    "    new_impression = []\n",
    "    for i, sentence in enumerate(filtered_impression, start=1):\n",
    "        # Considering cases starting with a letter or \n",
    "        # an example like << 3 intrahepatic biliary duct stents in place. >>\n",
    "        if sentence[0].isalpha() or sentence[0].isdigit() and sentence[1] != '.':\n",
    "            if 'non-reportable' in sentence:\n",
    "                raise Exception('Invalid')\n",
    "            new_impression.append('{}. {}'.format(i, \" \".join(sentence.split())))\n",
    "        # Considering cases such as << [Status post bilateral lung transplantation >>\n",
    "        elif not sentence[0].isalpha() and not sentence[0].isdigit():\n",
    "            new_impression.append('{}. {}'.format(i, \" \".join(sentence[1:].split())))\n",
    "        else:\n",
    "            new_impression.append(\" \".join(sentence.split()))\n",
    "    impression = '\\n'.join(new_impression)\n",
    "    return impression"
   ]
  },
  {
   "cell_type": "code",
   "execution_count": 24,
   "id": "f719d7a0",
   "metadata": {},
   "outputs": [],
   "source": [
    "def preprocess(raw_data):\n",
    "    processed_data = pd.DataFrame(columns=['Accession Number', 'Exam', 'Clinical History', 'Comparison', 'Findings', 'Source', 'Impression'])\n",
    "    for i in tqdm.tqdm(range(len(raw_data))):\n",
    "        row = raw_data.iloc[i]\n",
    "        try:\n",
    "            exam, clinical_history, comparison, findings, source = preprocess_findings(row['Exam Description'], row['Report Text'])\n",
    "            impression = preprocess_impression(row['Report Text'])\n",
    "            processed_data.loc[len(processed_data)] = {\n",
    "                'Accession Number': row['Accession Number'],\n",
    "                'Exam': exam,\n",
    "                'Clinical History': clinical_history,\n",
    "                'Comparison': comparison,\n",
    "                'Findings': findings,\n",
    "                'Source': source,\n",
    "                'Impression': impression\n",
    "            }\n",
    "        except:\n",
    "            continue\n",
    "    return processed_data"
   ]
  },
  {
   "cell_type": "code",
   "execution_count": 25,
   "id": "8e334531",
   "metadata": {},
   "outputs": [
    {
     "name": "stderr",
     "output_type": "stream",
     "text": [
      "100%|█████████████████████████████████| 261086/261086 [1:18:53<00:00, 55.15it/s]\n"
     ]
    },
    {
     "data": {
      "text/plain": [
       "24775"
      ]
     },
     "execution_count": 25,
     "metadata": {},
     "output_type": "execute_result"
    }
   ],
   "source": [
    "general_dataset_csv = preprocess(general_dataset_raw)\n",
    "general_excluded = len(general_dataset.dropna(subset=['Exam Code'])) - len(general_dataset_csv)\n",
    "general_excluded"
   ]
  },
  {
   "cell_type": "code",
   "execution_count": 26,
   "id": "e10190c9",
   "metadata": {},
   "outputs": [
    {
     "name": "stderr",
     "output_type": "stream",
     "text": [
      "100%|████████████████████████████████████| 21425/21425 [01:05<00:00, 325.78it/s]\n"
     ]
    },
    {
     "data": {
      "text/plain": [
       "1927"
      ]
     },
     "execution_count": 26,
     "metadata": {},
     "output_type": "execute_result"
    }
   ],
   "source": [
    "specialized_dataset_csv = preprocess(specialized_dataset_raw)\n",
    "specialized_excluded = len(specialized_dataset.dropna(subset=['Exam Code'])) - len(specialized_dataset_csv)\n",
    "specialized_excluded"
   ]
  },
  {
   "cell_type": "code",
   "execution_count": 27,
   "id": "8f77745f",
   "metadata": {},
   "outputs": [
    {
     "name": "stderr",
     "output_type": "stream",
     "text": [
      "100%|██████████████████████████████████████| 7863/7863 [00:17<00:00, 437.65it/s]\n"
     ]
    },
    {
     "data": {
      "text/plain": [
       "85"
      ]
     },
     "execution_count": 27,
     "metadata": {},
     "output_type": "execute_result"
    }
   ],
   "source": [
    "finegrained_dataset_csv = preprocess(finegrained_dataset_raw)\n",
    "finegrained_excluded = len(finegrained_dataset.dropna(subset=['Exam Code'])) - len(finegrained_dataset_csv)\n",
    "finegrained_excluded"
   ]
  },
  {
   "cell_type": "code",
   "execution_count": 28,
   "id": "34cbae3d",
   "metadata": {
    "scrolled": true
   },
   "outputs": [],
   "source": [
    "general_train_dataset_csv, general_test_dataset_csv = train_test_split(general_dataset_csv, test_size=0.1)\n",
    "specialized_train_dataset_csv, specialized_test_dataset_csv = train_test_split(specialized_dataset_csv, test_size=0.1)\n",
    "finegrained_train_dataset_csv, finegrained_test_dataset_csv = train_test_split(finegrained_dataset_csv, test_size=0.1)\n",
    "\n",
    "general_train_dataset_csv.to_csv('data/processed/general_train_dataset.csv', index=False)\n",
    "general_test_dataset_csv.to_csv('data/processed/general_test_dataset.csv', index=False)\n",
    "\n",
    "specialized_train_dataset_csv.to_csv('data/processed/specialized_train_dataset.csv', index=False)\n",
    "specialized_test_dataset_csv.to_csv('data/processed/specialized_test_dataset.csv', index=False)\n",
    "\n",
    "finegrained_train_dataset_csv.to_csv('data/processed/finegrained_train_dataset.csv', index=False)\n",
    "finegrained_test_dataset_csv.to_csv('data/processed/finegrained_test_dataset.csv', index=False)"
   ]
  },
  {
   "cell_type": "code",
   "execution_count": 33,
   "id": "6a58a28d",
   "metadata": {},
   "outputs": [
    {
     "data": {
      "text/plain": [
       "(212679, 23632, 236311)"
      ]
     },
     "execution_count": 33,
     "metadata": {},
     "output_type": "execute_result"
    }
   ],
   "source": [
    "len(general_train_dataset_csv), len(general_test_dataset_csv), len(general_train_dataset_csv) + len(general_test_dataset_csv)"
   ]
  },
  {
   "cell_type": "code",
   "execution_count": 34,
   "id": "dab1c3a2",
   "metadata": {},
   "outputs": [
    {
     "data": {
      "text/plain": [
       "(17548, 1950, 19498)"
      ]
     },
     "execution_count": 34,
     "metadata": {},
     "output_type": "execute_result"
    }
   ],
   "source": [
    "len(specialized_train_dataset_csv), len(specialized_test_dataset_csv), len(specialized_train_dataset_csv) + len(specialized_test_dataset_csv)"
   ]
  },
  {
   "cell_type": "code",
   "execution_count": 35,
   "id": "8608d1d1",
   "metadata": {},
   "outputs": [
    {
     "data": {
      "text/plain": [
       "(7000, 778, 7778)"
      ]
     },
     "execution_count": 35,
     "metadata": {},
     "output_type": "execute_result"
    }
   ],
   "source": [
    "len(finegrained_train_dataset_csv), len(finegrained_test_dataset_csv), len(finegrained_train_dataset_csv) + len(finegrained_test_dataset_csv)"
   ]
  },
  {
   "cell_type": "code",
   "execution_count": null,
   "id": "22f4850f",
   "metadata": {},
   "outputs": [],
   "source": [
    "key = Fernet.generate_key()\n",
    "\n",
    "with open('filekey.key', 'wb') as filekey:\n",
    "    filekey.write(key)\n",
    "    \n",
    "# opening the key\n",
    "with open('filekey.key', 'rb') as filekey:\n",
    "    key = filekey.read()\n",
    "\n",
    "fernet = Fernet(key)\n",
    " \n",
    "# opening the original file to encrypt\n",
    "with open('data/raw/secure_UCSF_radreports__CT_MR_MRI_US_PET__01-01-2021__10-22-2022.csv', 'rb') as file:\n",
    "    original = file.read()\n",
    "     \n",
    "# encrypting the file\n",
    "encrypted = fernet.encrypt(original)\n",
    " \n",
    "# opening the file in write mode and\n",
    "# writing the encrypted data\n",
    "with open('data/raw/secure_UCSF_radreports__CT_MR_MRI_US_PET__01-01-2021__10-22-2022.csv', 'wb') as encrypted_file:\n",
    "    encrypted_file.write(encrypted)"
   ]
  },
  {
   "cell_type": "code",
   "execution_count": 2,
   "id": "0214f463",
   "metadata": {},
   "outputs": [],
   "source": [
    "# opening the key\n",
    "with open('filekey.key', 'rb') as filekey:\n",
    "    key = filekey.read()\n",
    " \n",
    "# using the generated key\n",
    "fernet = Fernet(key)\n",
    "\n",
    "# using the key\n",
    "fernet = Fernet(key)\n",
    " \n",
    "# opening the encrypted file\n",
    "with open('data/raw/secure_UCSF_radreports__CT_MR_MRI_US_PET__01-01-2021__10-22-2022.csv', 'rb') as enc_file:\n",
    "    encrypted = enc_file.read()\n",
    " \n",
    "# decrypting the file\n",
    "decrypted = fernet.decrypt(encrypted)\n",
    " \n",
    "# opening the file in write mode and\n",
    "# writing the decrypted data\n",
    "with open('data/raw/secure_UCSF_radreports__CT_MR_MRI_US_PET__01-01-2021__10-22-2022.csv', 'wb') as dec_file:\n",
    "    dec_file.write(decrypted)"
   ]
  },
  {
   "cell_type": "code",
   "execution_count": 3,
   "id": "1cc3d34f",
   "metadata": {},
   "outputs": [
    {
     "data": {
      "text/html": [
       "<div>\n",
       "<style scoped>\n",
       "    .dataframe tbody tr th:only-of-type {\n",
       "        vertical-align: middle;\n",
       "    }\n",
       "\n",
       "    .dataframe tbody tr th {\n",
       "        vertical-align: top;\n",
       "    }\n",
       "\n",
       "    .dataframe thead th {\n",
       "        text-align: right;\n",
       "    }\n",
       "</style>\n",
       "<table border=\"1\" class=\"dataframe\">\n",
       "  <thead>\n",
       "    <tr style=\"text-align: right;\">\n",
       "      <th></th>\n",
       "      <th>Unnamed: 0</th>\n",
       "      <th>Organization</th>\n",
       "      <th>Point of Care</th>\n",
       "      <th>Source System</th>\n",
       "      <th>Accession Number</th>\n",
       "      <th>Modality</th>\n",
       "      <th>Exam Code</th>\n",
       "      <th>Exam Description</th>\n",
       "      <th>CPT Code</th>\n",
       "      <th>Report Text</th>\n",
       "      <th>...</th>\n",
       "      <th>MP (RVU)</th>\n",
       "      <th>Work (Professional) (RVU)</th>\n",
       "      <th>PE (Professional) (RVU)</th>\n",
       "      <th>MP (Professional) (RVU)</th>\n",
       "      <th>Work (Technical) (RVU)</th>\n",
       "      <th>PE (Technical) (RVU)</th>\n",
       "      <th>MP (Technical) (RVU)</th>\n",
       "      <th>Total (RVU)</th>\n",
       "      <th>Total (Professional) (RVU)</th>\n",
       "      <th>Total (Technical) (RVU)</th>\n",
       "    </tr>\n",
       "  </thead>\n",
       "  <tbody>\n",
       "    <tr>\n",
       "      <th>0</th>\n",
       "      <td>0</td>\n",
       "      <td>CT4</td>\n",
       "      <td>RAD CT PARN</td>\n",
       "      <td>EPIC</td>\n",
       "      <td>10022479688</td>\n",
       "      <td>CT</td>\n",
       "      <td>CABPU</td>\n",
       "      <td>CT ABDOMEN/PELVIS WITHOUT CONTRAST</td>\n",
       "      <td>74176</td>\n",
       "      <td>CT ABDOMEN/PELVIS WITHOUT CONTRAST  9/30/2022 ...</td>\n",
       "      <td>...</td>\n",
       "      <td>0.10</td>\n",
       "      <td>1.74</td>\n",
       "      <td>2.45</td>\n",
       "      <td>0.09</td>\n",
       "      <td>0.0</td>\n",
       "      <td>3.21</td>\n",
       "      <td>0.01</td>\n",
       "      <td>7.50</td>\n",
       "      <td>4.28</td>\n",
       "      <td>3.22</td>\n",
       "    </tr>\n",
       "    <tr>\n",
       "      <th>1</th>\n",
       "      <td>1</td>\n",
       "      <td>CT4</td>\n",
       "      <td>RAD CT PARN</td>\n",
       "      <td>EPIC</td>\n",
       "      <td>10022479687</td>\n",
       "      <td>CT</td>\n",
       "      <td>CCHU</td>\n",
       "      <td>CT CHEST WITHOUT CONTRAST</td>\n",
       "      <td>71250</td>\n",
       "      <td>CT CHEST WITHOUT CONTRAST    9/30/2022 11:40 P...</td>\n",
       "      <td>...</td>\n",
       "      <td>0.06</td>\n",
       "      <td>1.08</td>\n",
       "      <td>1.52</td>\n",
       "      <td>0.05</td>\n",
       "      <td>0.0</td>\n",
       "      <td>2.59</td>\n",
       "      <td>0.01</td>\n",
       "      <td>5.25</td>\n",
       "      <td>2.65</td>\n",
       "      <td>2.60</td>\n",
       "    </tr>\n",
       "    <tr>\n",
       "      <th>2</th>\n",
       "      <td>2</td>\n",
       "      <td>MBUS2</td>\n",
       "      <td>RAD ULTRASOUND MB</td>\n",
       "      <td>EPIC</td>\n",
       "      <td>10022479715</td>\n",
       "      <td>US</td>\n",
       "      <td>USCRO</td>\n",
       "      <td>US SCROTUM WITH DOPPLER</td>\n",
       "      <td>76870, 93976</td>\n",
       "      <td>US SCROTUM WITH DOPPLER    9/30/2022 11:36 PM\\...</td>\n",
       "      <td>...</td>\n",
       "      <td>0.11</td>\n",
       "      <td>1.44</td>\n",
       "      <td>2.03</td>\n",
       "      <td>0.08</td>\n",
       "      <td>0.0</td>\n",
       "      <td>5.76</td>\n",
       "      <td>0.03</td>\n",
       "      <td>9.34</td>\n",
       "      <td>3.55</td>\n",
       "      <td>5.79</td>\n",
       "    </tr>\n",
       "    <tr>\n",
       "      <th>3</th>\n",
       "      <td>3</td>\n",
       "      <td>CT2</td>\n",
       "      <td>RAD CT PARN</td>\n",
       "      <td>EPIC</td>\n",
       "      <td>10022479670</td>\n",
       "      <td>CT</td>\n",
       "      <td>CABPE</td>\n",
       "      <td>CT ABDOMEN/PELVIS WITH CONTRAST</td>\n",
       "      <td>74177</td>\n",
       "      <td>CT ABDOMEN/PELVIS WITH CONTRAST  9/30/2022 11:...</td>\n",
       "      <td>...</td>\n",
       "      <td>0.11</td>\n",
       "      <td>1.82</td>\n",
       "      <td>2.57</td>\n",
       "      <td>0.09</td>\n",
       "      <td>0.0</td>\n",
       "      <td>7.06</td>\n",
       "      <td>0.02</td>\n",
       "      <td>11.56</td>\n",
       "      <td>4.48</td>\n",
       "      <td>7.08</td>\n",
       "    </tr>\n",
       "    <tr>\n",
       "      <th>4</th>\n",
       "      <td>4</td>\n",
       "      <td>CT2</td>\n",
       "      <td>RAD CT PARN</td>\n",
       "      <td>EPIC</td>\n",
       "      <td>10022479671</td>\n",
       "      <td>CT</td>\n",
       "      <td>CCHU</td>\n",
       "      <td>CT CHEST WITHOUT CONTRAST</td>\n",
       "      <td>71250</td>\n",
       "      <td>CT CHEST WITHOUT CONTRAST    9/30/2022 11:08 P...</td>\n",
       "      <td>...</td>\n",
       "      <td>0.06</td>\n",
       "      <td>1.08</td>\n",
       "      <td>1.52</td>\n",
       "      <td>0.05</td>\n",
       "      <td>0.0</td>\n",
       "      <td>2.59</td>\n",
       "      <td>0.01</td>\n",
       "      <td>5.25</td>\n",
       "      <td>2.65</td>\n",
       "      <td>2.60</td>\n",
       "    </tr>\n",
       "    <tr>\n",
       "      <th>...</th>\n",
       "      <td>...</td>\n",
       "      <td>...</td>\n",
       "      <td>...</td>\n",
       "      <td>...</td>\n",
       "      <td>...</td>\n",
       "      <td>...</td>\n",
       "      <td>...</td>\n",
       "      <td>...</td>\n",
       "      <td>...</td>\n",
       "      <td>...</td>\n",
       "      <td>...</td>\n",
       "      <td>...</td>\n",
       "      <td>...</td>\n",
       "      <td>...</td>\n",
       "      <td>...</td>\n",
       "      <td>...</td>\n",
       "      <td>...</td>\n",
       "      <td>...</td>\n",
       "      <td>...</td>\n",
       "      <td>...</td>\n",
       "      <td>...</td>\n",
       "    </tr>\n",
       "    <tr>\n",
       "      <th>388576</th>\n",
       "      <td>14033</td>\n",
       "      <td>CTED</td>\n",
       "      <td>RAD CT PARN</td>\n",
       "      <td>EPIC</td>\n",
       "      <td>10022479797</td>\n",
       "      <td>CT</td>\n",
       "      <td>CABPU</td>\n",
       "      <td>CT ABDOMEN/PELVIS WITHOUT CONTRAST</td>\n",
       "      <td>74176</td>\n",
       "      <td>CT ABDOMEN/PELVIS WITHOUT CONTRAST  10/1/2022 ...</td>\n",
       "      <td>...</td>\n",
       "      <td>0.10</td>\n",
       "      <td>1.74</td>\n",
       "      <td>2.45</td>\n",
       "      <td>0.09</td>\n",
       "      <td>0.0</td>\n",
       "      <td>3.21</td>\n",
       "      <td>0.01</td>\n",
       "      <td>7.50</td>\n",
       "      <td>4.28</td>\n",
       "      <td>3.22</td>\n",
       "    </tr>\n",
       "    <tr>\n",
       "      <th>388577</th>\n",
       "      <td>14034</td>\n",
       "      <td>CTED</td>\n",
       "      <td>RAD CT PARN</td>\n",
       "      <td>EPIC</td>\n",
       "      <td>10022479796</td>\n",
       "      <td>CT</td>\n",
       "      <td>CBRAU</td>\n",
       "      <td>CT BRAIN WITHOUT CONTRAST</td>\n",
       "      <td>70450</td>\n",
       "      <td>CT BRAIN WITHOUT CONTRAST:  10/1/2022 1:12 AM\\...</td>\n",
       "      <td>...</td>\n",
       "      <td>0.05</td>\n",
       "      <td>0.85</td>\n",
       "      <td>1.19</td>\n",
       "      <td>0.04</td>\n",
       "      <td>0.0</td>\n",
       "      <td>2.08</td>\n",
       "      <td>0.01</td>\n",
       "      <td>4.17</td>\n",
       "      <td>2.08</td>\n",
       "      <td>2.09</td>\n",
       "    </tr>\n",
       "    <tr>\n",
       "      <th>388578</th>\n",
       "      <td>14035</td>\n",
       "      <td>CT2</td>\n",
       "      <td>RAD CT PARN</td>\n",
       "      <td>EPIC</td>\n",
       "      <td>10022479675</td>\n",
       "      <td>CT</td>\n",
       "      <td>CTABUE</td>\n",
       "      <td>CT ANGIOGRAM BRAIN</td>\n",
       "      <td>70496</td>\n",
       "      <td>CT ANGIOGRAM BRAIN:  10/1/2022 12:35 AM\\nINDIC...</td>\n",
       "      <td>...</td>\n",
       "      <td>0.13</td>\n",
       "      <td>1.75</td>\n",
       "      <td>2.46</td>\n",
       "      <td>0.09</td>\n",
       "      <td>0.0</td>\n",
       "      <td>6.12</td>\n",
       "      <td>0.04</td>\n",
       "      <td>10.46</td>\n",
       "      <td>4.30</td>\n",
       "      <td>6.16</td>\n",
       "    </tr>\n",
       "    <tr>\n",
       "      <th>388579</th>\n",
       "      <td>14036</td>\n",
       "      <td>MRN1</td>\n",
       "      <td>RAD MRI PARN</td>\n",
       "      <td>EPIC</td>\n",
       "      <td>10022479631</td>\n",
       "      <td>MRI</td>\n",
       "      <td>MBRUE</td>\n",
       "      <td>MR BRAIN WITH AND WITHOUT CONTRAST</td>\n",
       "      <td>70553</td>\n",
       "      <td>MR BRAIN WITH AND WITHOUT CONTRAST, MR VENOGRA...</td>\n",
       "      <td>...</td>\n",
       "      <td>0.15</td>\n",
       "      <td>2.29</td>\n",
       "      <td>3.22</td>\n",
       "      <td>0.11</td>\n",
       "      <td>0.0</td>\n",
       "      <td>6.79</td>\n",
       "      <td>0.04</td>\n",
       "      <td>12.45</td>\n",
       "      <td>5.62</td>\n",
       "      <td>6.83</td>\n",
       "    </tr>\n",
       "    <tr>\n",
       "      <th>388580</th>\n",
       "      <td>14037</td>\n",
       "      <td>MRN1</td>\n",
       "      <td>RAD MRI PARN</td>\n",
       "      <td>EPIC</td>\n",
       "      <td>10022479625</td>\n",
       "      <td>MRI</td>\n",
       "      <td>MRVBU</td>\n",
       "      <td>MR VENOGRAM BRAIN WITHOUT CONTRAST</td>\n",
       "      <td>70544</td>\n",
       "      <td>MR BRAIN WITH AND WITHOUT CONTRAST, MR VENOGRA...</td>\n",
       "      <td>...</td>\n",
       "      <td>0.09</td>\n",
       "      <td>1.20</td>\n",
       "      <td>1.70</td>\n",
       "      <td>0.07</td>\n",
       "      <td>0.0</td>\n",
       "      <td>5.05</td>\n",
       "      <td>0.02</td>\n",
       "      <td>8.04</td>\n",
       "      <td>2.97</td>\n",
       "      <td>5.07</td>\n",
       "    </tr>\n",
       "  </tbody>\n",
       "</table>\n",
       "<p>388581 rows × 73 columns</p>\n",
       "</div>"
      ],
      "text/plain": [
       "        Unnamed: 0 Organization      Point of Care Source System  \\\n",
       "0                0          CT4        RAD CT PARN          EPIC   \n",
       "1                1          CT4        RAD CT PARN          EPIC   \n",
       "2                2        MBUS2  RAD ULTRASOUND MB          EPIC   \n",
       "3                3          CT2        RAD CT PARN          EPIC   \n",
       "4                4          CT2        RAD CT PARN          EPIC   \n",
       "...            ...          ...                ...           ...   \n",
       "388576       14033         CTED        RAD CT PARN          EPIC   \n",
       "388577       14034         CTED        RAD CT PARN          EPIC   \n",
       "388578       14035          CT2        RAD CT PARN          EPIC   \n",
       "388579       14036         MRN1       RAD MRI PARN          EPIC   \n",
       "388580       14037         MRN1       RAD MRI PARN          EPIC   \n",
       "\n",
       "       Accession Number Modality Exam Code  \\\n",
       "0           10022479688       CT     CABPU   \n",
       "1           10022479687       CT      CCHU   \n",
       "2           10022479715       US     USCRO   \n",
       "3           10022479670       CT     CABPE   \n",
       "4           10022479671       CT      CCHU   \n",
       "...                 ...      ...       ...   \n",
       "388576      10022479797       CT     CABPU   \n",
       "388577      10022479796       CT     CBRAU   \n",
       "388578      10022479675       CT    CTABUE   \n",
       "388579      10022479631      MRI     MBRUE   \n",
       "388580      10022479625      MRI     MRVBU   \n",
       "\n",
       "                          Exam Description      CPT Code  \\\n",
       "0       CT ABDOMEN/PELVIS WITHOUT CONTRAST         74176   \n",
       "1                CT CHEST WITHOUT CONTRAST         71250   \n",
       "2                  US SCROTUM WITH DOPPLER  76870, 93976   \n",
       "3          CT ABDOMEN/PELVIS WITH CONTRAST         74177   \n",
       "4                CT CHEST WITHOUT CONTRAST         71250   \n",
       "...                                    ...           ...   \n",
       "388576  CT ABDOMEN/PELVIS WITHOUT CONTRAST         74176   \n",
       "388577           CT BRAIN WITHOUT CONTRAST         70450   \n",
       "388578                  CT ANGIOGRAM BRAIN         70496   \n",
       "388579  MR BRAIN WITH AND WITHOUT CONTRAST         70553   \n",
       "388580  MR VENOGRAM BRAIN WITHOUT CONTRAST         70544   \n",
       "\n",
       "                                              Report Text  ...  MP (RVU)  \\\n",
       "0       CT ABDOMEN/PELVIS WITHOUT CONTRAST  9/30/2022 ...  ...      0.10   \n",
       "1       CT CHEST WITHOUT CONTRAST    9/30/2022 11:40 P...  ...      0.06   \n",
       "2       US SCROTUM WITH DOPPLER    9/30/2022 11:36 PM\\...  ...      0.11   \n",
       "3       CT ABDOMEN/PELVIS WITH CONTRAST  9/30/2022 11:...  ...      0.11   \n",
       "4       CT CHEST WITHOUT CONTRAST    9/30/2022 11:08 P...  ...      0.06   \n",
       "...                                                   ...  ...       ...   \n",
       "388576  CT ABDOMEN/PELVIS WITHOUT CONTRAST  10/1/2022 ...  ...      0.10   \n",
       "388577  CT BRAIN WITHOUT CONTRAST:  10/1/2022 1:12 AM\\...  ...      0.05   \n",
       "388578  CT ANGIOGRAM BRAIN:  10/1/2022 12:35 AM\\nINDIC...  ...      0.13   \n",
       "388579  MR BRAIN WITH AND WITHOUT CONTRAST, MR VENOGRA...  ...      0.15   \n",
       "388580  MR BRAIN WITH AND WITHOUT CONTRAST, MR VENOGRA...  ...      0.09   \n",
       "\n",
       "       Work (Professional) (RVU) PE (Professional) (RVU)  \\\n",
       "0                           1.74                    2.45   \n",
       "1                           1.08                    1.52   \n",
       "2                           1.44                    2.03   \n",
       "3                           1.82                    2.57   \n",
       "4                           1.08                    1.52   \n",
       "...                          ...                     ...   \n",
       "388576                      1.74                    2.45   \n",
       "388577                      0.85                    1.19   \n",
       "388578                      1.75                    2.46   \n",
       "388579                      2.29                    3.22   \n",
       "388580                      1.20                    1.70   \n",
       "\n",
       "        MP (Professional) (RVU)  Work (Technical) (RVU) PE (Technical) (RVU)  \\\n",
       "0                          0.09                     0.0                 3.21   \n",
       "1                          0.05                     0.0                 2.59   \n",
       "2                          0.08                     0.0                 5.76   \n",
       "3                          0.09                     0.0                 7.06   \n",
       "4                          0.05                     0.0                 2.59   \n",
       "...                         ...                     ...                  ...   \n",
       "388576                     0.09                     0.0                 3.21   \n",
       "388577                     0.04                     0.0                 2.08   \n",
       "388578                     0.09                     0.0                 6.12   \n",
       "388579                     0.11                     0.0                 6.79   \n",
       "388580                     0.07                     0.0                 5.05   \n",
       "\n",
       "       MP (Technical) (RVU)  Total (RVU) Total (Professional) (RVU)  \\\n",
       "0                      0.01         7.50                       4.28   \n",
       "1                      0.01         5.25                       2.65   \n",
       "2                      0.03         9.34                       3.55   \n",
       "3                      0.02        11.56                       4.48   \n",
       "4                      0.01         5.25                       2.65   \n",
       "...                     ...          ...                        ...   \n",
       "388576                 0.01         7.50                       4.28   \n",
       "388577                 0.01         4.17                       2.08   \n",
       "388578                 0.04        10.46                       4.30   \n",
       "388579                 0.04        12.45                       5.62   \n",
       "388580                 0.02         8.04                       2.97   \n",
       "\n",
       "        Total (Technical) (RVU)  \n",
       "0                          3.22  \n",
       "1                          2.60  \n",
       "2                          5.79  \n",
       "3                          7.08  \n",
       "4                          2.60  \n",
       "...                         ...  \n",
       "388576                     3.22  \n",
       "388577                     2.09  \n",
       "388578                     6.16  \n",
       "388579                     6.83  \n",
       "388580                     5.07  \n",
       "\n",
       "[388581 rows x 73 columns]"
      ]
     },
     "execution_count": 3,
     "metadata": {},
     "output_type": "execute_result"
    }
   ],
   "source": [
    "pd.read_csv('data/raw/secure_UCSF_radreports__CT_MR_MRI_US_PET__01-01-2021__10-22-2022.csv')"
   ]
  },
  {
   "cell_type": "code",
   "execution_count": null,
   "id": "5b741bc3",
   "metadata": {},
   "outputs": [],
   "source": []
  }
 ],
 "metadata": {
  "kernelspec": {
   "display_name": "Python 3 (ipykernel)",
   "language": "python",
   "name": "python3"
  },
  "language_info": {
   "codemirror_mode": {
    "name": "ipython",
    "version": 3
   },
   "file_extension": ".py",
   "mimetype": "text/x-python",
   "name": "python",
   "nbconvert_exporter": "python",
   "pygments_lexer": "ipython3",
   "version": "3.9.12"
  }
 },
 "nbformat": 4,
 "nbformat_minor": 5
}
