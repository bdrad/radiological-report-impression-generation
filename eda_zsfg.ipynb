{
 "cells": [
  {
   "cell_type": "code",
   "execution_count": 1,
   "id": "ccfd093e",
   "metadata": {},
   "outputs": [],
   "source": [
    "import pandas as pd\n",
    "import regex as re\n",
    "import tqdm"
   ]
  },
  {
   "cell_type": "code",
   "execution_count": 2,
   "id": "8b46c44c",
   "metadata": {},
   "outputs": [],
   "source": [
    "def preprocess_text(exam, report_text):\n",
    "    text = report_text.replace('_x000D_', '')\n",
    "    findings_impression = re.search(r\"(FINDINGS|Findings:|FINDINGS:|FINDINGS:\\n\\n|FINDINGS:\\n)((.|\\n)*)\", text)\n",
    "    findings_impression = findings_impression.group(0)\n",
    "    \n",
    "    impression = re.search(r\"(Impression:|IMPRESSION:|IMPRESSION:\\n\\n)((.|\\n)*)\", text)\n",
    "    impression = impression.group(0)\n",
    "    \n",
    "    findings = findings_impression.replace(impression, '')\n",
    "    findings = findings.replace('FINDINGS', '').strip()\n",
    "    findings = findings.replace('FINDINGS:', '').strip()\n",
    "    findings = findings.replace('FINDINGS:\\n', '').strip()\n",
    "    findings = findings.replace('Findings:\\n', '').strip()\n",
    "    findings = findings.replace(':\\n\\n', '').strip()\n",
    "    findings = findings.replace(': \\n\\n', '').strip()\n",
    "    findings = findings.replace(':\\n', '').strip()\n",
    "\n",
    "    impression = impression.replace('IMPRESSION:\\n', '').strip()\n",
    "    impression = impression.replace('Impression:', '').strip()\n",
    "\n",
    "    impression = re.sub(r\"(?=(The above findings|Impression discussed|Further impression|Final impression|Attestation|Radiologist|Electronically|This change was))(.|\\n)*\", \"\", impression)\n",
    "    \n",
    "    impression_text = impression.split('\\n')\n",
    "    regex = re.compile(r'^(^$|^\\s*$|No wet|Wet read|This study|FINDINGS|IMPRESSION:|Report|Department|Electronically|\\/\\/).*')\n",
    "    filtered_impression = [ele for ele in impression_text if not regex.match(ele)]\n",
    "    new_impression = []\n",
    "    for i, sentence in enumerate(filtered_impression, start=1):\n",
    "        # Considering cases starting with a letter or \n",
    "        # an example like << 3 intrahepatic biliary duct stents in place. >>\n",
    "        if sentence[0].isalpha() or sentence[0].isdigit() and sentence[1] != '.':\n",
    "            if 'non-reportable' in sentence:\n",
    "                raise Exception('Invalid')\n",
    "            new_impression.append('{}. {}'.format(i, \" \".join(sentence.split())))\n",
    "        # Considering cases such as << [Status post bilateral lung transplantation >>\n",
    "        elif not sentence[0].isalpha() and not sentence[0].isdigit():\n",
    "            new_impression.append('{}. {}'.format(i, \" \".join(sentence[1:].split())))\n",
    "        else:\n",
    "            new_impression.append(\" \".join(sentence.split()))\n",
    "    impression = '\\n'.join(new_impression)\n",
    "    \n",
    "    comparison = re.search(r\"((?=COMPARISON|Comparison)(.)*)\", text).group(0)\n",
    "    comparison = comparison.replace('COMPARISON: ', '').strip()\n",
    "    \n",
    "    indication = re.search(r\"((?=Indication:|INDICATION FOR STUDY|INDICATION FOR EXAM)(.)*)\", text)\n",
    "    if indication:\n",
    "        indication = indication.group(0)\n",
    "    else:\n",
    "        indication = 'None'\n",
    "    indication = indication.replace('INDICATION FOR STUDY: ', '').strip()\n",
    "    indication = indication.replace('INDICATION FOR EXAM: ', '').strip()\n",
    "    \n",
    "    source = 'EXAM:\\n{}'.format(exam) + '\\n' + 'CLINICAL HISTORY:\\n{}'.format(indication) + '\\n' + 'COMPARISON:\\n{}'.format(comparison) + '\\n' + 'FINDINGS:\\n{}'.format(findings) \n",
    "    return exam, indication, comparison, findings, source, impression\n",
    "\n",
    "def preprocess(raw_data):\n",
    "    processed_data = pd.DataFrame(columns=['Accession Number', 'Exam', 'Clinical History', 'Comparison', 'Findings', 'Source', 'Impression'])\n",
    "    for i in tqdm.tqdm(range(len(raw_data))):\n",
    "        row = raw_data.iloc[i]\n",
    "        try:\n",
    "            exam, clinical_history, comparison, findings, source, impression = preprocess_text(row['Exam Description'], row['Report Text'])\n",
    "            processed_data.loc[len(processed_data)] = {\n",
    "                'Accession Number': row['Accession Number'],\n",
    "                'Exam': row['Exam Description'],\n",
    "                'Clinical History': clinical_history,\n",
    "                'Comparison': comparison,\n",
    "                'Findings': findings,\n",
    "                'Source': source,\n",
    "                'Impression': impression\n",
    "            }\n",
    "        except:\n",
    "            continue\n",
    "    return processed_data"
   ]
  },
  {
   "cell_type": "code",
   "execution_count": 50,
   "id": "52d2c45c",
   "metadata": {},
   "outputs": [
    {
     "name": "stderr",
     "output_type": "stream",
     "text": [
      "100%|██████████████████████████████████████| 2777/2777 [00:06<00:00, 450.11it/s]\n"
     ]
    },
    {
     "data": {
      "text/plain": [
       "28"
      ]
     },
     "execution_count": 50,
     "metadata": {},
     "output_type": "execute_result"
    }
   ],
   "source": [
    "zsfg_specialized_file = '/run/user/1000/gvfs/smb-share:server=sohn2022.local,share=sohn2022/secure_metadata/secure_ZSFG_AllCT_3k_20220101_20220201.xlsx'\n",
    "\n",
    "zsfg_specialized_dataset = pd.read_excel(zsfg_specialized_file)\n",
    "date_condition_1 = zsfg_specialized_dataset['Report Finalized Date'] >= '2022-01-01'\n",
    "date_condition_2 = zsfg_specialized_dataset['Report Finalized Date'] < '2022-02-01' \n",
    "zsfg_specialized_dataset = zsfg_specialized_dataset[date_condition_1 & date_condition_2]\n",
    "\n",
    "zsfg_specialized_dataset_csv = preprocess(zsfg_specialized_dataset)\n",
    "zsfg_specialized_excluded = len(zsfg_specialized_dataset.dropna(subset=['Exam Code'])) - len(zsfg_specialized_dataset_csv)\n",
    "zsfg_specialized_excluded"
   ]
  },
  {
   "cell_type": "code",
   "execution_count": 51,
   "id": "ac853695",
   "metadata": {},
   "outputs": [
    {
     "name": "stderr",
     "output_type": "stream",
     "text": [
      "100%|████████████████████████████████████████| 372/372 [00:00<00:00, 476.52it/s]\n"
     ]
    },
    {
     "data": {
      "text/plain": [
       "0"
      ]
     },
     "execution_count": 51,
     "metadata": {},
     "output_type": "execute_result"
    }
   ],
   "source": [
    "zsfg_finegrained_file = '/run/user/1000/gvfs/smb-share:server=sohn2022.local,share=sohn2022/secure_metadata/secure_ZSFG_ChestCT_20211101_20221111.xlsx'\n",
    "\n",
    "zsfg_finegrained_dataset = pd.read_excel(zsfg_finegrained_file)\n",
    "date_condition_1 = zsfg_finegrained_dataset['Report Finalized Date'] >= '2022-01-01'\n",
    "date_condition_2 = zsfg_finegrained_dataset['Report Finalized Date'] < '2022-02-01' \n",
    "zsfg_finegrained_dataset = zsfg_finegrained_dataset[date_condition_1 & date_condition_2]\n",
    "zsfg_finegrained_dataset_csv = preprocess(zsfg_finegrained_dataset)\n",
    "zsfg_finegrained_excluded = len(zsfg_finegrained_dataset.dropna(subset=['Exam Code'])) - len(zsfg_finegrained_dataset_csv)\n",
    "zsfg_finegrained_excluded"
   ]
  },
  {
   "cell_type": "code",
   "execution_count": 52,
   "id": "e6a6e146",
   "metadata": {},
   "outputs": [
    {
     "data": {
      "text/plain": [
       "2749"
      ]
     },
     "execution_count": 52,
     "metadata": {},
     "output_type": "execute_result"
    }
   ],
   "source": [
    "len(zsfg_specialized_dataset_csv)"
   ]
  },
  {
   "cell_type": "code",
   "execution_count": 53,
   "id": "568aafcf",
   "metadata": {},
   "outputs": [
    {
     "data": {
      "text/plain": [
       "372"
      ]
     },
     "execution_count": 53,
     "metadata": {},
     "output_type": "execute_result"
    }
   ],
   "source": [
    "len(zsfg_finegrained_dataset_csv)"
   ]
  },
  {
   "cell_type": "code",
   "execution_count": null,
   "id": "ed0d82e9",
   "metadata": {},
   "outputs": [],
   "source": [
    "zsfg_specialized_dataset_csv.to_csv('data/processed/zsfg_specialized_test_dataset.csv', index=False)\n",
    "zsfg_finegrained_dataset_csv.to_csv('data/processed/zsfg_finegrained_test_dataset.csv', index=False)"
   ]
  },
  {
   "cell_type": "code",
   "execution_count": 45,
   "id": "9003e20f",
   "metadata": {},
   "outputs": [
    {
     "data": {
      "text/plain": [
       "Timestamp('2022-01-01 07:40:50')"
      ]
     },
     "execution_count": 45,
     "metadata": {},
     "output_type": "execute_result"
    }
   ],
   "source": [
    "zsfg_specialized_dataset.dropna(subset=['Report Finalized Date']).sort_values(by='Report Finalized Date')['Report Finalized Date'].iloc[0]"
   ]
  },
  {
   "cell_type": "code",
   "execution_count": null,
   "id": "c643b4b7",
   "metadata": {},
   "outputs": [],
   "source": []
  }
 ],
 "metadata": {
  "kernelspec": {
   "display_name": "Python 3 (ipykernel)",
   "language": "python",
   "name": "python3"
  },
  "language_info": {
   "codemirror_mode": {
    "name": "ipython",
    "version": 3
   },
   "file_extension": ".py",
   "mimetype": "text/x-python",
   "name": "python",
   "nbconvert_exporter": "python",
   "pygments_lexer": "ipython3",
   "version": "3.9.12"
  }
 },
 "nbformat": 4,
 "nbformat_minor": 5
}
