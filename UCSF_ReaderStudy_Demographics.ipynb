{
 "cells": [
  {
   "cell_type": "code",
   "execution_count": 77,
   "id": "6b57e398",
   "metadata": {
    "scrolled": false
   },
   "outputs": [],
   "source": [
    "import pandas as pd\n",
    "UCSF_reports = pd.read_csv('data/raw/secure_UCSF_radreports__CT_MR_MRI_US_PET__01-01-2021__10-22-2022.csv')\n",
    "reports = pd.read_csv('reports.csv')\n",
    "reports = reports.rename(columns={'accession_number': 'Accession Number'})\n",
    "data = UCSF_reports.merge(reports)"
   ]
  },
  {
   "cell_type": "code",
   "execution_count": 86,
   "id": "94b37532",
   "metadata": {},
   "outputs": [
    {
     "name": "stdout",
     "output_type": "stream",
     "text": [
      "Patient Age\n",
      "====================\n",
      "Model-generated\n",
      "--------------------\n",
      "58.475 +/- 21.926435865037206\n",
      "====================\n",
      "Radiologist-written\n",
      "--------------------\n",
      "53.55 +/- 22.99536566583065\n"
     ]
    }
   ],
   "source": [
    "print('Patient Age')\n",
    "print('='*20)\n",
    "print('Model-generated')\n",
    "print('-'*20)\n",
    "print(data[data['original'] == 0]['Patient Age'].mean(), '+/-', data[data['original'] == 0]['Patient Age'].std())\n",
    "print('='*20)\n",
    "print('Radiologist-written')\n",
    "print('-'*20)\n",
    "print(data[data['original'] == 1]['Patient Age'].mean(), '+/-', data[data['original'] == 1]['Patient Age'].std())"
   ]
  },
  {
   "cell_type": "code",
   "execution_count": 85,
   "id": "c98be0c1",
   "metadata": {},
   "outputs": [
    {
     "name": "stdout",
     "output_type": "stream",
     "text": [
      "Patient Sex\n",
      "====================\n",
      "Model-generated\n",
      "--------------------\n",
      "Patient Sex\n",
      "Female    22\n",
      "Male      18\n",
      "Name: count, dtype: int64\n",
      "====================\n",
      "Radiologist-written\n",
      "--------------------\n",
      "Patient Sex\n",
      "Female    10\n",
      "Male      10\n",
      "Name: count, dtype: int64\n"
     ]
    }
   ],
   "source": [
    "print('Patient Sex')\n",
    "print('='*20)\n",
    "print('Model-generated')\n",
    "print('-'*20)\n",
    "print(data[data['original'] == 0]['Patient Sex'].value_counts())\n",
    "print('='*20)\n",
    "print('Radiologist-written')\n",
    "print('-'*20)\n",
    "print(data[data['original'] == 1]['Patient Sex'].value_counts())"
   ]
  },
  {
   "cell_type": "code",
   "execution_count": 84,
   "id": "f3a6f822",
   "metadata": {},
   "outputs": [
    {
     "name": "stdout",
     "output_type": "stream",
     "text": [
      "Exam Type\n",
      "====================\n",
      "Model-generated\n",
      "--------------------\n",
      "Exam Description\n",
      "CT CHEST WITHOUT CONTRAST             0.425\n",
      "CT CHEST WITH CONTRAST                0.225\n",
      "CT CHEST PULMONARY EMBOLISM (CTPE)    0.150\n",
      "CT CHEST HIGH RESOLUTION              0.075\n",
      "CT CHEST WITH CONTRAST (PETCT)        0.075\n",
      "CT CHEST WITHOUT CONTRAST (PETCT)     0.050\n",
      "Name: proportion, dtype: float64\n",
      "====================\n",
      "Radiologist-written\n",
      "--------------------\n",
      "Exam Description\n",
      "CT CHEST WITHOUT CONTRAST             0.45\n",
      "CT CHEST WITH CONTRAST                0.20\n",
      "CT CHEST HIGH RESOLUTION              0.20\n",
      "CT CHEST PULMONARY EMBOLISM (CTPE)    0.10\n",
      "CT CHEST WITH CONTRAST (PETCT)        0.05\n",
      "Name: proportion, dtype: float64\n"
     ]
    }
   ],
   "source": [
    "print('Exam Type')\n",
    "print('='*20)\n",
    "print('Model-generated')\n",
    "print('-'*20)\n",
    "print(data[data['original'] == 0]['Exam Description'].value_counts(normalize=True))\n",
    "print('='*20)\n",
    "print('Radiologist-written')\n",
    "print('-'*20)\n",
    "print(data[data['original'] == 1]['Exam Description'].value_counts(normalize=True))"
   ]
  },
  {
   "cell_type": "code",
   "execution_count": 87,
   "id": "e85eb80d",
   "metadata": {},
   "outputs": [
    {
     "name": "stdout",
     "output_type": "stream",
     "text": [
      "Pathology\n",
      "====================\n",
      "Model-generated\n",
      "--------------------\n",
      "pathology\n",
      "Cancer Staging               0.400\n",
      "Acute/Emergent               0.375\n",
      "Interstitial Lung Disease    0.125\n",
      "Nodules                      0.100\n",
      "Name: proportion, dtype: float64\n",
      "====================\n",
      "Radiologist-written\n",
      "--------------------\n",
      "pathology\n",
      "Acute/Emergent               0.35\n",
      "Cancer Staging               0.30\n",
      "Nodules                      0.10\n",
      "Interstitial Lung Disease    0.10\n",
      "Lung Transplant              0.10\n",
      "Aneurysm                     0.05\n",
      "Name: proportion, dtype: float64\n"
     ]
    }
   ],
   "source": [
    "pathology = pd.read_csv('pathology.csv')\n",
    "\n",
    "# 10022277149 -> Fix Addendum\n",
    "# 10022430612 -> Fix Addendum\n",
    "# 10022304034 -> Fix Addendum\n",
    "\n",
    "data.loc[data['Accession Number'] == '10022277149', 'original_impression'] = \\\n",
    "\"1.  Solitary left lung transplant without rejection or infection.\\n2.  Unchanged extent of fibrosis in the right lung.\\n3.  Right lung subsolid nodules are unchanged from 2019. Attention on follow-up.\\n4. Hepatic steatosis.\"\n",
    "\n",
    "data.loc[data['Accession Number'] == '10022430612', 'original_impression'] = \\\n",
    "\"1.  No pulmonary artery embolus, thoracic aortic dissection, or other acute thoracic process.\\n2.  Enlarged, multinodular thyroid gland. Consider outpatient thyroid ultrasound if not already performed, indicated, and concordant with goals of care.\\n3.  Unchanged aberrant right subclavian artery with retroesophageal course and severe proximal stenosis.\"\n",
    "\n",
    "data.loc[data['Accession Number'] == '10022304034', 'original_impression'] = \\\n",
    "\"1. Mild ill-defined stranding in the partially visualized right upper extremity with small amount of fluid posterior to the right deltoid muscle although without clear organized fluid collection. This finding may reflect asymmetric edema however recommend correlation with direct visualization and can consider dedicated imaging of the right shoulder (MRI or ultrasound) if there is high clinical concern.\\n2. Small bilateral pleural effusions with adjacent atelectasis.\"\n",
    "\n",
    "data = data.merge(pathology)\n",
    "\n",
    "print('Pathology')\n",
    "print('='*20)\n",
    "print('Model-generated')\n",
    "print('-'*20)\n",
    "print(data[data['original'] == 0]['pathology'].value_counts(normalize=True))\n",
    "print('='*20)\n",
    "print('Radiologist-written')\n",
    "print('-'*20)\n",
    "print(data[data['original'] == 1]['pathology'].value_counts(normalize=True))"
   ]
  },
  {
   "cell_type": "code",
   "execution_count": 103,
   "id": "ff09c854",
   "metadata": {},
   "outputs": [
    {
     "name": "stdout",
     "output_type": "stream",
     "text": [
      "Cut-off (Short): 27\n",
      "Cut-off (Medium): 45\n",
      "Original Impression Length\n",
      "====================\n",
      "Model-generated\n",
      "--------------------\n",
      "Length\n",
      "Short     0.350\n",
      "Medium    0.325\n",
      "Long      0.325\n",
      "Name: proportion, dtype: float64\n",
      "====================\n",
      "Radiologist-written\n",
      "--------------------\n",
      "Length\n",
      "Medium    0.35\n",
      "Short     0.35\n",
      "Long      0.30\n",
      "Name: proportion, dtype: float64\n"
     ]
    }
   ],
   "source": [
    "def word_count(impression):\n",
    "    return len(impression.split(' '))\n",
    "data['Original Impression Length'] = reports['original_impression'].apply(word_count)\n",
    "\n",
    "cut_off_short = data.sort_values(by=['Original Impression Length']).iloc[20]['Original Impression Length']\n",
    "cut_off_medium = data.sort_values(by=['Original Impression Length']).iloc[40]['Original Impression Length']\n",
    "\n",
    "short_length_condition = data['Original Impression Length'] <= cut_off_short\n",
    "medium_length_condition = (data['Original Impression Length'] > cut_off_short) & (data['Original Impression Length'] <= cut_off_medium)\n",
    "long_length_condition = data['Original Impression Length'] > cut_off_medium\n",
    "\n",
    "\n",
    "data.loc[short_length_condition, 'Length'] = 'Short'\n",
    "data.loc[medium_length_condition, 'Length'] = 'Medium'\n",
    "data.loc[long_length_condition, 'Length'] = 'Long'\n",
    "\n",
    "print('Cut-off (Short):', cut_off_short)\n",
    "print('Cut-off (Medium):', cut_off_medium)\n",
    "\n",
    "print('Original Impression Length')\n",
    "print('='*20)\n",
    "print('Model-generated')\n",
    "print('-'*20)\n",
    "print(data[data['original'] == 0]['Length'].value_counts(normalize=True))\n",
    "print('='*20)\n",
    "print('Radiologist-written')\n",
    "print('-'*20)\n",
    "print(data[data['original'] == 1]['Length'].value_counts(normalize=True))"
   ]
  },
  {
   "cell_type": "code",
   "execution_count": 105,
   "id": "08520c8e",
   "metadata": {},
   "outputs": [],
   "source": [
    "data.to_csv('demographics_reports.csv', index=False)"
   ]
  }
 ],
 "metadata": {
  "kernelspec": {
   "display_name": "report_gen",
   "language": "python",
   "name": "report_gen"
  },
  "language_info": {
   "codemirror_mode": {
    "name": "ipython",
    "version": 3
   },
   "file_extension": ".py",
   "mimetype": "text/x-python",
   "name": "python",
   "nbconvert_exporter": "python",
   "pygments_lexer": "ipython3",
   "version": "3.11.4"
  }
 },
 "nbformat": 4,
 "nbformat_minor": 5
}
